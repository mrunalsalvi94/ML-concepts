{
 "cells": [
  {
   "cell_type": "code",
   "execution_count": 1,
   "metadata": {},
   "outputs": [],
   "source": [
    "import numpy as np\n",
    "import pandas as pd"
   ]
  },
  {
   "cell_type": "code",
   "execution_count": 2,
   "metadata": {},
   "outputs": [],
   "source": [
    "nums = [800678,800456]"
   ]
  },
  {
   "cell_type": "code",
   "execution_count": 3,
   "metadata": {},
   "outputs": [],
   "source": [
    "names = ['Ricky','Sneha']"
   ]
  },
  {
   "cell_type": "code",
   "execution_count": 4,
   "metadata": {},
   "outputs": [],
   "source": [
    "series_1 = pd.Series(nums)"
   ]
  },
  {
   "cell_type": "code",
   "execution_count": 5,
   "metadata": {},
   "outputs": [],
   "source": [
    "series_2 = pd.Series(nums,index=names)"
   ]
  },
  {
   "cell_type": "code",
   "execution_count": 6,
   "metadata": {},
   "outputs": [
    {
     "data": {
      "text/plain": [
       "0    800678\n",
       "1    800456\n",
       "dtype: int64"
      ]
     },
     "execution_count": 6,
     "metadata": {},
     "output_type": "execute_result"
    }
   ],
   "source": [
    "series_1"
   ]
  },
  {
   "cell_type": "code",
   "execution_count": 7,
   "metadata": {},
   "outputs": [
    {
     "data": {
      "text/plain": [
       "Ricky    800678\n",
       "Sneha    800456\n",
       "dtype: int64"
      ]
     },
     "execution_count": 7,
     "metadata": {},
     "output_type": "execute_result"
    }
   ],
   "source": [
    "series_2"
   ]
  },
  {
   "cell_type": "code",
   "execution_count": 8,
   "metadata": {},
   "outputs": [],
   "source": [
    "a = pd.Series(data=[1,2,3,4], index=[1,2,3,4])\n",
    "b = pd.Series(data=[1,2,3,4], index=[0,1,3,4])"
   ]
  },
  {
   "cell_type": "code",
   "execution_count": 9,
   "metadata": {},
   "outputs": [],
   "source": [
    "c = a+b"
   ]
  },
  {
   "cell_type": "code",
   "execution_count": 10,
   "metadata": {},
   "outputs": [
    {
     "data": {
      "text/plain": [
       "0    NaN\n",
       "1    3.0\n",
       "2    NaN\n",
       "3    6.0\n",
       "4    8.0\n",
       "dtype: float64"
      ]
     },
     "execution_count": 10,
     "metadata": {},
     "output_type": "execute_result"
    }
   ],
   "source": [
    "c"
   ]
  },
  {
   "cell_type": "code",
   "execution_count": 11,
   "metadata": {},
   "outputs": [],
   "source": [
    "c.fillna(0,inplace=True)"
   ]
  },
  {
   "cell_type": "code",
   "execution_count": 12,
   "metadata": {},
   "outputs": [
    {
     "data": {
      "text/plain": [
       "0    0.0\n",
       "1    3.0\n",
       "2    0.0\n",
       "3    6.0\n",
       "4    8.0\n",
       "dtype: float64"
      ]
     },
     "execution_count": 12,
     "metadata": {},
     "output_type": "execute_result"
    }
   ],
   "source": [
    "c"
   ]
  },
  {
   "cell_type": "code",
   "execution_count": 13,
   "metadata": {},
   "outputs": [],
   "source": [
    "#Data frames"
   ]
  },
  {
   "cell_type": "code",
   "execution_count": 14,
   "metadata": {},
   "outputs": [],
   "source": [
    "pincodes = [800678, 800456]\n",
    "numbers = [2567890, 2567657]"
   ]
  },
  {
   "cell_type": "code",
   "execution_count": 15,
   "metadata": {},
   "outputs": [],
   "source": [
    "labels = ['R','M']"
   ]
  },
  {
   "cell_type": "code",
   "execution_count": 16,
   "metadata": {},
   "outputs": [],
   "source": [
    "first = pd.DataFrame({\"pincodes\":pincodes,'numbers':numbers},index=labels)"
   ]
  },
  {
   "cell_type": "code",
   "execution_count": 17,
   "metadata": {},
   "outputs": [
    {
     "name": "stdout",
     "output_type": "stream",
     "text": [
      "   pincodes  numbers\n",
      "R    800678  2567890\n",
      "M    800456  2567657\n"
     ]
    }
   ],
   "source": [
    "print(first)"
   ]
  },
  {
   "cell_type": "code",
   "execution_count": 18,
   "metadata": {},
   "outputs": [],
   "source": [
    "df = pd.read_csv('Dataframe-pokemon.csv')"
   ]
  },
  {
   "cell_type": "code",
   "execution_count": 19,
   "metadata": {},
   "outputs": [
    {
     "data": {
      "text/html": [
       "<div>\n",
       "<style scoped>\n",
       "    .dataframe tbody tr th:only-of-type {\n",
       "        vertical-align: middle;\n",
       "    }\n",
       "\n",
       "    .dataframe tbody tr th {\n",
       "        vertical-align: top;\n",
       "    }\n",
       "\n",
       "    .dataframe thead th {\n",
       "        text-align: right;\n",
       "    }\n",
       "</style>\n",
       "<table border=\"1\" class=\"dataframe\">\n",
       "  <thead>\n",
       "    <tr style=\"text-align: right;\">\n",
       "      <th></th>\n",
       "      <th>#</th>\n",
       "      <th>Name</th>\n",
       "      <th>Type 1</th>\n",
       "      <th>Type 2</th>\n",
       "      <th>HP</th>\n",
       "      <th>Attack</th>\n",
       "      <th>Defense</th>\n",
       "      <th>Sp. Atk</th>\n",
       "      <th>Sp. Def</th>\n",
       "      <th>Speed</th>\n",
       "      <th>Generation</th>\n",
       "      <th>Legendary</th>\n",
       "    </tr>\n",
       "  </thead>\n",
       "  <tbody>\n",
       "    <tr>\n",
       "      <td>0</td>\n",
       "      <td>1</td>\n",
       "      <td>Bulbasaur</td>\n",
       "      <td>Grass</td>\n",
       "      <td>Poison</td>\n",
       "      <td>45</td>\n",
       "      <td>49</td>\n",
       "      <td>49</td>\n",
       "      <td>65</td>\n",
       "      <td>65</td>\n",
       "      <td>45</td>\n",
       "      <td>1</td>\n",
       "      <td>False</td>\n",
       "    </tr>\n",
       "    <tr>\n",
       "      <td>1</td>\n",
       "      <td>2</td>\n",
       "      <td>Ivysaur</td>\n",
       "      <td>Grass</td>\n",
       "      <td>Poison</td>\n",
       "      <td>60</td>\n",
       "      <td>62</td>\n",
       "      <td>63</td>\n",
       "      <td>80</td>\n",
       "      <td>80</td>\n",
       "      <td>60</td>\n",
       "      <td>1</td>\n",
       "      <td>False</td>\n",
       "    </tr>\n",
       "    <tr>\n",
       "      <td>2</td>\n",
       "      <td>3</td>\n",
       "      <td>Venusaur</td>\n",
       "      <td>Grass</td>\n",
       "      <td>Poison</td>\n",
       "      <td>80</td>\n",
       "      <td>82</td>\n",
       "      <td>83</td>\n",
       "      <td>100</td>\n",
       "      <td>100</td>\n",
       "      <td>80</td>\n",
       "      <td>1</td>\n",
       "      <td>False</td>\n",
       "    </tr>\n",
       "    <tr>\n",
       "      <td>3</td>\n",
       "      <td>4</td>\n",
       "      <td>Mega Venusaur</td>\n",
       "      <td>Grass</td>\n",
       "      <td>Poison</td>\n",
       "      <td>80</td>\n",
       "      <td>100</td>\n",
       "      <td>123</td>\n",
       "      <td>122</td>\n",
       "      <td>120</td>\n",
       "      <td>80</td>\n",
       "      <td>1</td>\n",
       "      <td>False</td>\n",
       "    </tr>\n",
       "    <tr>\n",
       "      <td>4</td>\n",
       "      <td>5</td>\n",
       "      <td>Charmander</td>\n",
       "      <td>Fire</td>\n",
       "      <td>NaN</td>\n",
       "      <td>39</td>\n",
       "      <td>52</td>\n",
       "      <td>43</td>\n",
       "      <td>60</td>\n",
       "      <td>50</td>\n",
       "      <td>65</td>\n",
       "      <td>1</td>\n",
       "      <td>False</td>\n",
       "    </tr>\n",
       "  </tbody>\n",
       "</table>\n",
       "</div>"
      ],
      "text/plain": [
       "   #           Name Type 1  Type 2  HP  Attack  Defense  Sp. Atk  Sp. Def  \\\n",
       "0  1      Bulbasaur  Grass  Poison  45      49       49       65       65   \n",
       "1  2        Ivysaur  Grass  Poison  60      62       63       80       80   \n",
       "2  3       Venusaur  Grass  Poison  80      82       83      100      100   \n",
       "3  4  Mega Venusaur  Grass  Poison  80     100      123      122      120   \n",
       "4  5     Charmander   Fire     NaN  39      52       43       60       50   \n",
       "\n",
       "   Speed  Generation  Legendary  \n",
       "0     45           1      False  \n",
       "1     60           1      False  \n",
       "2     80           1      False  \n",
       "3     80           1      False  \n",
       "4     65           1      False  "
      ]
     },
     "execution_count": 19,
     "metadata": {},
     "output_type": "execute_result"
    }
   ],
   "source": [
    "df.head()"
   ]
  },
  {
   "cell_type": "code",
   "execution_count": 20,
   "metadata": {},
   "outputs": [],
   "source": [
    "head = df.head(10)"
   ]
  },
  {
   "cell_type": "code",
   "execution_count": 21,
   "metadata": {},
   "outputs": [
    {
     "name": "stdout",
     "output_type": "stream",
     "text": [
      "    #              Name Type 1  Type 2  HP  Attack  Defense  Sp. Atk  Sp. Def  \\\n",
      "0   1         Bulbasaur  Grass  Poison  45      49       49       65       65   \n",
      "1   2           Ivysaur  Grass  Poison  60      62       63       80       80   \n",
      "2   3          Venusaur  Grass  Poison  80      82       83      100      100   \n",
      "3   4     Mega Venusaur  Grass  Poison  80     100      123      122      120   \n",
      "4   5        Charmander   Fire     NaN  39      52       43       60       50   \n",
      "5   6        Charmeleon   Fire     NaN  58      64       58       80       65   \n",
      "6   7         Charizard   Fire  Flying  78      84       78      109       85   \n",
      "7   8  Mega Charizard X   Fire  Dragon  78     130      111      130       85   \n",
      "8   9  Mega Charizard Y   Fire  Flying  78     104       78      159      115   \n",
      "9  10          Squirtle  Water     NaN  44      48       65       50       64   \n",
      "\n",
      "   Speed  Generation  Legendary  \n",
      "0     45           1      False  \n",
      "1     60           1      False  \n",
      "2     80           1      False  \n",
      "3     80           1      False  \n",
      "4     65           1      False  \n",
      "5     80           1      False  \n",
      "6    100           1      False  \n",
      "7    100           1      False  \n",
      "8    100           1      False  \n",
      "9     43           1      False  \n"
     ]
    }
   ],
   "source": [
    "print(head)"
   ]
  },
  {
   "cell_type": "code",
   "execution_count": 22,
   "metadata": {},
   "outputs": [],
   "source": [
    "describe = df.describe()"
   ]
  },
  {
   "cell_type": "code",
   "execution_count": 23,
   "metadata": {},
   "outputs": [
    {
     "data": {
      "text/html": [
       "<div>\n",
       "<style scoped>\n",
       "    .dataframe tbody tr th:only-of-type {\n",
       "        vertical-align: middle;\n",
       "    }\n",
       "\n",
       "    .dataframe tbody tr th {\n",
       "        vertical-align: top;\n",
       "    }\n",
       "\n",
       "    .dataframe thead th {\n",
       "        text-align: right;\n",
       "    }\n",
       "</style>\n",
       "<table border=\"1\" class=\"dataframe\">\n",
       "  <thead>\n",
       "    <tr style=\"text-align: right;\">\n",
       "      <th></th>\n",
       "      <th>#</th>\n",
       "      <th>HP</th>\n",
       "      <th>Attack</th>\n",
       "      <th>Defense</th>\n",
       "      <th>Sp. Atk</th>\n",
       "      <th>Sp. Def</th>\n",
       "      <th>Speed</th>\n",
       "      <th>Generation</th>\n",
       "    </tr>\n",
       "  </thead>\n",
       "  <tbody>\n",
       "    <tr>\n",
       "      <td>count</td>\n",
       "      <td>800.0000</td>\n",
       "      <td>800.000000</td>\n",
       "      <td>800.000000</td>\n",
       "      <td>800.000000</td>\n",
       "      <td>800.000000</td>\n",
       "      <td>800.000000</td>\n",
       "      <td>800.000000</td>\n",
       "      <td>800.00000</td>\n",
       "    </tr>\n",
       "    <tr>\n",
       "      <td>mean</td>\n",
       "      <td>400.5000</td>\n",
       "      <td>69.258750</td>\n",
       "      <td>79.001250</td>\n",
       "      <td>73.842500</td>\n",
       "      <td>72.820000</td>\n",
       "      <td>71.902500</td>\n",
       "      <td>68.277500</td>\n",
       "      <td>3.32375</td>\n",
       "    </tr>\n",
       "    <tr>\n",
       "      <td>std</td>\n",
       "      <td>231.0844</td>\n",
       "      <td>25.534669</td>\n",
       "      <td>32.457366</td>\n",
       "      <td>31.183501</td>\n",
       "      <td>32.722294</td>\n",
       "      <td>27.828916</td>\n",
       "      <td>29.060474</td>\n",
       "      <td>1.66129</td>\n",
       "    </tr>\n",
       "    <tr>\n",
       "      <td>min</td>\n",
       "      <td>1.0000</td>\n",
       "      <td>1.000000</td>\n",
       "      <td>5.000000</td>\n",
       "      <td>5.000000</td>\n",
       "      <td>10.000000</td>\n",
       "      <td>20.000000</td>\n",
       "      <td>5.000000</td>\n",
       "      <td>1.00000</td>\n",
       "    </tr>\n",
       "    <tr>\n",
       "      <td>25%</td>\n",
       "      <td>200.7500</td>\n",
       "      <td>50.000000</td>\n",
       "      <td>55.000000</td>\n",
       "      <td>50.000000</td>\n",
       "      <td>49.750000</td>\n",
       "      <td>50.000000</td>\n",
       "      <td>45.000000</td>\n",
       "      <td>2.00000</td>\n",
       "    </tr>\n",
       "    <tr>\n",
       "      <td>50%</td>\n",
       "      <td>400.5000</td>\n",
       "      <td>65.000000</td>\n",
       "      <td>75.000000</td>\n",
       "      <td>70.000000</td>\n",
       "      <td>65.000000</td>\n",
       "      <td>70.000000</td>\n",
       "      <td>65.000000</td>\n",
       "      <td>3.00000</td>\n",
       "    </tr>\n",
       "    <tr>\n",
       "      <td>75%</td>\n",
       "      <td>600.2500</td>\n",
       "      <td>80.000000</td>\n",
       "      <td>100.000000</td>\n",
       "      <td>90.000000</td>\n",
       "      <td>95.000000</td>\n",
       "      <td>90.000000</td>\n",
       "      <td>90.000000</td>\n",
       "      <td>5.00000</td>\n",
       "    </tr>\n",
       "    <tr>\n",
       "      <td>max</td>\n",
       "      <td>800.0000</td>\n",
       "      <td>255.000000</td>\n",
       "      <td>190.000000</td>\n",
       "      <td>230.000000</td>\n",
       "      <td>194.000000</td>\n",
       "      <td>230.000000</td>\n",
       "      <td>180.000000</td>\n",
       "      <td>6.00000</td>\n",
       "    </tr>\n",
       "  </tbody>\n",
       "</table>\n",
       "</div>"
      ],
      "text/plain": [
       "              #          HP      Attack     Defense     Sp. Atk     Sp. Def  \\\n",
       "count  800.0000  800.000000  800.000000  800.000000  800.000000  800.000000   \n",
       "mean   400.5000   69.258750   79.001250   73.842500   72.820000   71.902500   \n",
       "std    231.0844   25.534669   32.457366   31.183501   32.722294   27.828916   \n",
       "min      1.0000    1.000000    5.000000    5.000000   10.000000   20.000000   \n",
       "25%    200.7500   50.000000   55.000000   50.000000   49.750000   50.000000   \n",
       "50%    400.5000   65.000000   75.000000   70.000000   65.000000   70.000000   \n",
       "75%    600.2500   80.000000  100.000000   90.000000   95.000000   90.000000   \n",
       "max    800.0000  255.000000  190.000000  230.000000  194.000000  230.000000   \n",
       "\n",
       "            Speed  Generation  \n",
       "count  800.000000   800.00000  \n",
       "mean    68.277500     3.32375  \n",
       "std     29.060474     1.66129  \n",
       "min      5.000000     1.00000  \n",
       "25%     45.000000     2.00000  \n",
       "50%     65.000000     3.00000  \n",
       "75%     90.000000     5.00000  \n",
       "max    180.000000     6.00000  "
      ]
     },
     "execution_count": 23,
     "metadata": {},
     "output_type": "execute_result"
    }
   ],
   "source": [
    "describe"
   ]
  },
  {
   "cell_type": "code",
   "execution_count": 24,
   "metadata": {},
   "outputs": [
    {
     "name": "stdout",
     "output_type": "stream",
     "text": [
      "(800, 12)\n"
     ]
    }
   ],
   "source": [
    "shape = df.shape\n",
    "print(shape)"
   ]
  },
  {
   "cell_type": "code",
   "execution_count": 25,
   "metadata": {},
   "outputs": [
    {
     "name": "stdout",
     "output_type": "stream",
     "text": [
      "#               0\n",
      "Name            1\n",
      "Type 1          0\n",
      "Type 2        386\n",
      "HP              0\n",
      "Attack          0\n",
      "Defense         0\n",
      "Sp. Atk         0\n",
      "Sp. Def         0\n",
      "Speed           0\n",
      "Generation      0\n",
      "Legendary       0\n",
      "dtype: int64\n"
     ]
    }
   ],
   "source": [
    "null = df.isnull().sum()\n",
    "print(null)"
   ]
  },
  {
   "cell_type": "code",
   "execution_count": 26,
   "metadata": {},
   "outputs": [],
   "source": [
    "unique = df.nunique()"
   ]
  },
  {
   "cell_type": "code",
   "execution_count": 27,
   "metadata": {},
   "outputs": [
    {
     "name": "stdout",
     "output_type": "stream",
     "text": [
      "#             800\n",
      "Name          799\n",
      "Type 1         18\n",
      "Type 2         18\n",
      "HP             94\n",
      "Attack        111\n",
      "Defense       103\n",
      "Sp. Atk       105\n",
      "Sp. Def        92\n",
      "Speed         108\n",
      "Generation      6\n",
      "Legendary       2\n",
      "dtype: int64\n"
     ]
    }
   ],
   "source": [
    "print(unique)"
   ]
  },
  {
   "cell_type": "code",
   "execution_count": 28,
   "metadata": {},
   "outputs": [],
   "source": [
    "df['Total'] = df['HP']+df['Attack']+df['Defense']+df['Sp. Atk']+df['Sp. Def']+df['Speed']"
   ]
  },
  {
   "cell_type": "code",
   "execution_count": 29,
   "metadata": {},
   "outputs": [
    {
     "name": "stdout",
     "output_type": "stream",
     "text": [
      "0      318\n",
      "1      405\n",
      "2      525\n",
      "3      625\n",
      "4      309\n",
      "      ... \n",
      "795    600\n",
      "796    700\n",
      "797    600\n",
      "798    680\n",
      "799    600\n",
      "Name: Total, Length: 800, dtype: int64\n"
     ]
    }
   ],
   "source": [
    "print(df['Total'])"
   ]
  },
  {
   "cell_type": "code",
   "execution_count": 30,
   "metadata": {},
   "outputs": [],
   "source": [
    "df.rename(columns={'HP':'Health Points','Sp. Atk':'Attack speed points','Sp. Def':'Defense speed points'},inplace=True)"
   ]
  },
  {
   "cell_type": "code",
   "execution_count": 31,
   "metadata": {},
   "outputs": [],
   "source": [
    "df.drop(['#'],inplace=True,axis=1)"
   ]
  },
  {
   "cell_type": "code",
   "execution_count": 32,
   "metadata": {},
   "outputs": [
    {
     "data": {
      "text/html": [
       "<div>\n",
       "<style scoped>\n",
       "    .dataframe tbody tr th:only-of-type {\n",
       "        vertical-align: middle;\n",
       "    }\n",
       "\n",
       "    .dataframe tbody tr th {\n",
       "        vertical-align: top;\n",
       "    }\n",
       "\n",
       "    .dataframe thead th {\n",
       "        text-align: right;\n",
       "    }\n",
       "</style>\n",
       "<table border=\"1\" class=\"dataframe\">\n",
       "  <thead>\n",
       "    <tr style=\"text-align: right;\">\n",
       "      <th></th>\n",
       "      <th>Name</th>\n",
       "      <th>Type 1</th>\n",
       "      <th>Type 2</th>\n",
       "      <th>Health Points</th>\n",
       "      <th>Attack</th>\n",
       "      <th>Defense</th>\n",
       "      <th>Attack speed points</th>\n",
       "      <th>Defense speed points</th>\n",
       "      <th>Speed</th>\n",
       "      <th>Generation</th>\n",
       "      <th>Legendary</th>\n",
       "      <th>Total</th>\n",
       "    </tr>\n",
       "  </thead>\n",
       "  <tbody>\n",
       "    <tr>\n",
       "      <td>0</td>\n",
       "      <td>Bulbasaur</td>\n",
       "      <td>Grass</td>\n",
       "      <td>Poison</td>\n",
       "      <td>45</td>\n",
       "      <td>49</td>\n",
       "      <td>49</td>\n",
       "      <td>65</td>\n",
       "      <td>65</td>\n",
       "      <td>45</td>\n",
       "      <td>1</td>\n",
       "      <td>False</td>\n",
       "      <td>318</td>\n",
       "    </tr>\n",
       "    <tr>\n",
       "      <td>1</td>\n",
       "      <td>Ivysaur</td>\n",
       "      <td>Grass</td>\n",
       "      <td>Poison</td>\n",
       "      <td>60</td>\n",
       "      <td>62</td>\n",
       "      <td>63</td>\n",
       "      <td>80</td>\n",
       "      <td>80</td>\n",
       "      <td>60</td>\n",
       "      <td>1</td>\n",
       "      <td>False</td>\n",
       "      <td>405</td>\n",
       "    </tr>\n",
       "    <tr>\n",
       "      <td>2</td>\n",
       "      <td>Venusaur</td>\n",
       "      <td>Grass</td>\n",
       "      <td>Poison</td>\n",
       "      <td>80</td>\n",
       "      <td>82</td>\n",
       "      <td>83</td>\n",
       "      <td>100</td>\n",
       "      <td>100</td>\n",
       "      <td>80</td>\n",
       "      <td>1</td>\n",
       "      <td>False</td>\n",
       "      <td>525</td>\n",
       "    </tr>\n",
       "    <tr>\n",
       "      <td>3</td>\n",
       "      <td>Mega Venusaur</td>\n",
       "      <td>Grass</td>\n",
       "      <td>Poison</td>\n",
       "      <td>80</td>\n",
       "      <td>100</td>\n",
       "      <td>123</td>\n",
       "      <td>122</td>\n",
       "      <td>120</td>\n",
       "      <td>80</td>\n",
       "      <td>1</td>\n",
       "      <td>False</td>\n",
       "      <td>625</td>\n",
       "    </tr>\n",
       "    <tr>\n",
       "      <td>4</td>\n",
       "      <td>Charmander</td>\n",
       "      <td>Fire</td>\n",
       "      <td>NaN</td>\n",
       "      <td>39</td>\n",
       "      <td>52</td>\n",
       "      <td>43</td>\n",
       "      <td>60</td>\n",
       "      <td>50</td>\n",
       "      <td>65</td>\n",
       "      <td>1</td>\n",
       "      <td>False</td>\n",
       "      <td>309</td>\n",
       "    </tr>\n",
       "  </tbody>\n",
       "</table>\n",
       "</div>"
      ],
      "text/plain": [
       "            Name Type 1  Type 2  Health Points  Attack  Defense  \\\n",
       "0      Bulbasaur  Grass  Poison             45      49       49   \n",
       "1        Ivysaur  Grass  Poison             60      62       63   \n",
       "2       Venusaur  Grass  Poison             80      82       83   \n",
       "3  Mega Venusaur  Grass  Poison             80     100      123   \n",
       "4     Charmander   Fire     NaN             39      52       43   \n",
       "\n",
       "   Attack speed points  Defense speed points  Speed  Generation  Legendary  \\\n",
       "0                   65                    65     45           1      False   \n",
       "1                   80                    80     60           1      False   \n",
       "2                  100                   100     80           1      False   \n",
       "3                  122                   120     80           1      False   \n",
       "4                   60                    50     65           1      False   \n",
       "\n",
       "   Total  \n",
       "0    318  \n",
       "1    405  \n",
       "2    525  \n",
       "3    625  \n",
       "4    309  "
      ]
     },
     "execution_count": 32,
     "metadata": {},
     "output_type": "execute_result"
    }
   ],
   "source": [
    "df.head(5)"
   ]
  },
  {
   "cell_type": "code",
   "execution_count": 33,
   "metadata": {},
   "outputs": [],
   "source": [
    "df.set_index('Name',inplace=True)"
   ]
  },
  {
   "cell_type": "code",
   "execution_count": 34,
   "metadata": {},
   "outputs": [
    {
     "data": {
      "text/html": [
       "<div>\n",
       "<style scoped>\n",
       "    .dataframe tbody tr th:only-of-type {\n",
       "        vertical-align: middle;\n",
       "    }\n",
       "\n",
       "    .dataframe tbody tr th {\n",
       "        vertical-align: top;\n",
       "    }\n",
       "\n",
       "    .dataframe thead th {\n",
       "        text-align: right;\n",
       "    }\n",
       "</style>\n",
       "<table border=\"1\" class=\"dataframe\">\n",
       "  <thead>\n",
       "    <tr style=\"text-align: right;\">\n",
       "      <th></th>\n",
       "      <th>Type 1</th>\n",
       "      <th>Type 2</th>\n",
       "      <th>Health Points</th>\n",
       "      <th>Attack</th>\n",
       "      <th>Defense</th>\n",
       "      <th>Attack speed points</th>\n",
       "      <th>Defense speed points</th>\n",
       "      <th>Speed</th>\n",
       "      <th>Generation</th>\n",
       "      <th>Legendary</th>\n",
       "      <th>Total</th>\n",
       "    </tr>\n",
       "    <tr>\n",
       "      <th>Name</th>\n",
       "      <th></th>\n",
       "      <th></th>\n",
       "      <th></th>\n",
       "      <th></th>\n",
       "      <th></th>\n",
       "      <th></th>\n",
       "      <th></th>\n",
       "      <th></th>\n",
       "      <th></th>\n",
       "      <th></th>\n",
       "      <th></th>\n",
       "    </tr>\n",
       "  </thead>\n",
       "  <tbody>\n",
       "    <tr>\n",
       "      <td>Bulbasaur</td>\n",
       "      <td>Grass</td>\n",
       "      <td>Poison</td>\n",
       "      <td>45</td>\n",
       "      <td>49</td>\n",
       "      <td>49</td>\n",
       "      <td>65</td>\n",
       "      <td>65</td>\n",
       "      <td>45</td>\n",
       "      <td>1</td>\n",
       "      <td>False</td>\n",
       "      <td>318</td>\n",
       "    </tr>\n",
       "    <tr>\n",
       "      <td>Ivysaur</td>\n",
       "      <td>Grass</td>\n",
       "      <td>Poison</td>\n",
       "      <td>60</td>\n",
       "      <td>62</td>\n",
       "      <td>63</td>\n",
       "      <td>80</td>\n",
       "      <td>80</td>\n",
       "      <td>60</td>\n",
       "      <td>1</td>\n",
       "      <td>False</td>\n",
       "      <td>405</td>\n",
       "    </tr>\n",
       "    <tr>\n",
       "      <td>Venusaur</td>\n",
       "      <td>Grass</td>\n",
       "      <td>Poison</td>\n",
       "      <td>80</td>\n",
       "      <td>82</td>\n",
       "      <td>83</td>\n",
       "      <td>100</td>\n",
       "      <td>100</td>\n",
       "      <td>80</td>\n",
       "      <td>1</td>\n",
       "      <td>False</td>\n",
       "      <td>525</td>\n",
       "    </tr>\n",
       "    <tr>\n",
       "      <td>Mega Venusaur</td>\n",
       "      <td>Grass</td>\n",
       "      <td>Poison</td>\n",
       "      <td>80</td>\n",
       "      <td>100</td>\n",
       "      <td>123</td>\n",
       "      <td>122</td>\n",
       "      <td>120</td>\n",
       "      <td>80</td>\n",
       "      <td>1</td>\n",
       "      <td>False</td>\n",
       "      <td>625</td>\n",
       "    </tr>\n",
       "    <tr>\n",
       "      <td>Charmander</td>\n",
       "      <td>Fire</td>\n",
       "      <td>NaN</td>\n",
       "      <td>39</td>\n",
       "      <td>52</td>\n",
       "      <td>43</td>\n",
       "      <td>60</td>\n",
       "      <td>50</td>\n",
       "      <td>65</td>\n",
       "      <td>1</td>\n",
       "      <td>False</td>\n",
       "      <td>309</td>\n",
       "    </tr>\n",
       "  </tbody>\n",
       "</table>\n",
       "</div>"
      ],
      "text/plain": [
       "              Type 1  Type 2  Health Points  Attack  Defense  \\\n",
       "Name                                                           \n",
       "Bulbasaur      Grass  Poison             45      49       49   \n",
       "Ivysaur        Grass  Poison             60      62       63   \n",
       "Venusaur       Grass  Poison             80      82       83   \n",
       "Mega Venusaur  Grass  Poison             80     100      123   \n",
       "Charmander      Fire     NaN             39      52       43   \n",
       "\n",
       "               Attack speed points  Defense speed points  Speed  Generation  \\\n",
       "Name                                                                          \n",
       "Bulbasaur                       65                    65     45           1   \n",
       "Ivysaur                         80                    80     60           1   \n",
       "Venusaur                       100                   100     80           1   \n",
       "Mega Venusaur                  122                   120     80           1   \n",
       "Charmander                      60                    50     65           1   \n",
       "\n",
       "               Legendary  Total  \n",
       "Name                             \n",
       "Bulbasaur          False    318  \n",
       "Ivysaur            False    405  \n",
       "Venusaur           False    525  \n",
       "Mega Venusaur      False    625  \n",
       "Charmander         False    309  "
      ]
     },
     "execution_count": 34,
     "metadata": {},
     "output_type": "execute_result"
    }
   ],
   "source": [
    "df.head(5)"
   ]
  },
  {
   "cell_type": "code",
   "execution_count": 35,
   "metadata": {},
   "outputs": [
    {
     "name": "stdout",
     "output_type": "stream",
     "text": [
      "18\n"
     ]
    }
   ],
   "source": [
    "Type_2_num = df['Type 2'].nunique()\n",
    "print(Type_2_num)"
   ]
  },
  {
   "cell_type": "code",
   "execution_count": 36,
   "metadata": {},
   "outputs": [
    {
     "name": "stdout",
     "output_type": "stream",
     "text": [
      "['Poison' nan 'Flying' 'Dragon' 'Ground' 'Fairy' 'Grass' 'Fighting'\n",
      " 'Psychic' 'Steel' 'Ice' 'Rock' 'Dark' 'Water' 'Electric' 'Fire' 'Ghost'\n",
      " 'Bug' 'Normal']\n"
     ]
    }
   ],
   "source": [
    "Type_2_type = df['Type 2'].unique()\n",
    "print(Type_2_type)"
   ]
  },
  {
   "cell_type": "code",
   "execution_count": 37,
   "metadata": {},
   "outputs": [
    {
     "name": "stdout",
     "output_type": "stream",
     "text": [
      "Flying      97\n",
      "Ground      35\n",
      "Poison      34\n",
      "Psychic     33\n",
      "Fighting    26\n",
      "Grass       25\n",
      "Fairy       23\n",
      "Steel       22\n",
      "Dark        20\n",
      "Dragon      18\n",
      "Ice         14\n",
      "Rock        14\n",
      "Water       14\n",
      "Ghost       14\n",
      "Fire        12\n",
      "Electric     6\n",
      "Normal       4\n",
      "Bug          3\n",
      "Name: Type 2, dtype: int64\n"
     ]
    }
   ],
   "source": [
    "Type_2_count = df['Type 2'].value_counts()\n",
    "print(Type_2_count)"
   ]
  },
  {
   "cell_type": "code",
   "execution_count": 38,
   "metadata": {},
   "outputs": [
    {
     "name": "stdout",
     "output_type": "stream",
     "text": [
      "386\n"
     ]
    }
   ],
   "source": [
    "Type_2_sum = df['Type 2'].isnull().sum()\n",
    "print(Type_2_sum)"
   ]
  },
  {
   "cell_type": "code",
   "execution_count": 39,
   "metadata": {},
   "outputs": [
    {
     "name": "stdout",
     "output_type": "stream",
     "text": [
      "Blissey\n"
     ]
    }
   ],
   "source": [
    "health = df['Health Points'].idxmax()\n",
    "print(health)"
   ]
  },
  {
   "cell_type": "code",
   "execution_count": 40,
   "metadata": {},
   "outputs": [
    {
     "name": "stdout",
     "output_type": "stream",
     "text": [
      "Mega Mewtwo Y\n"
     ]
    }
   ],
   "source": [
    "special_attack_pokemon = df['Attack speed points'].idxmax()\n",
    "print(special_attack_pokemon)"
   ]
  },
  {
   "cell_type": "code",
   "execution_count": 41,
   "metadata": {},
   "outputs": [
    {
     "name": "stdout",
     "output_type": "stream",
     "text": [
      "Shuckle\n"
     ]
    }
   ],
   "source": [
    "special_defense_pokemon = df['Defense speed points'].idxmax()\n",
    "print(special_defense_pokemon)"
   ]
  },
  {
   "cell_type": "code",
   "execution_count": 42,
   "metadata": {},
   "outputs": [
    {
     "name": "stdout",
     "output_type": "stream",
     "text": [
      "Deoxys Speed Forme\n"
     ]
    }
   ],
   "source": [
    "fastest_pokemon = df['Speed'].idxmax()\n",
    "print(fastest_pokemon)"
   ]
  },
  {
   "cell_type": "code",
   "execution_count": 43,
   "metadata": {},
   "outputs": [],
   "source": [
    "df = df[df.index.notnull()]"
   ]
  },
  {
   "cell_type": "code",
   "execution_count": 44,
   "metadata": {},
   "outputs": [
    {
     "data": {
      "text/html": [
       "<div>\n",
       "<style scoped>\n",
       "    .dataframe tbody tr th:only-of-type {\n",
       "        vertical-align: middle;\n",
       "    }\n",
       "\n",
       "    .dataframe tbody tr th {\n",
       "        vertical-align: top;\n",
       "    }\n",
       "\n",
       "    .dataframe thead th {\n",
       "        text-align: right;\n",
       "    }\n",
       "</style>\n",
       "<table border=\"1\" class=\"dataframe\">\n",
       "  <thead>\n",
       "    <tr style=\"text-align: right;\">\n",
       "      <th></th>\n",
       "      <th>Type 1</th>\n",
       "      <th>Type 2</th>\n",
       "      <th>Health Points</th>\n",
       "      <th>Attack</th>\n",
       "      <th>Defense</th>\n",
       "      <th>Attack speed points</th>\n",
       "      <th>Defense speed points</th>\n",
       "      <th>Speed</th>\n",
       "      <th>Generation</th>\n",
       "      <th>Legendary</th>\n",
       "      <th>Total</th>\n",
       "    </tr>\n",
       "    <tr>\n",
       "      <th>Name</th>\n",
       "      <th></th>\n",
       "      <th></th>\n",
       "      <th></th>\n",
       "      <th></th>\n",
       "      <th></th>\n",
       "      <th></th>\n",
       "      <th></th>\n",
       "      <th></th>\n",
       "      <th></th>\n",
       "      <th></th>\n",
       "      <th></th>\n",
       "    </tr>\n",
       "  </thead>\n",
       "  <tbody>\n",
       "    <tr>\n",
       "      <td>Bulbasaur</td>\n",
       "      <td>Grass</td>\n",
       "      <td>Poison</td>\n",
       "      <td>45</td>\n",
       "      <td>49</td>\n",
       "      <td>49</td>\n",
       "      <td>65</td>\n",
       "      <td>65</td>\n",
       "      <td>45</td>\n",
       "      <td>1</td>\n",
       "      <td>False</td>\n",
       "      <td>318</td>\n",
       "    </tr>\n",
       "    <tr>\n",
       "      <td>Ivysaur</td>\n",
       "      <td>Grass</td>\n",
       "      <td>Poison</td>\n",
       "      <td>60</td>\n",
       "      <td>62</td>\n",
       "      <td>63</td>\n",
       "      <td>80</td>\n",
       "      <td>80</td>\n",
       "      <td>60</td>\n",
       "      <td>1</td>\n",
       "      <td>False</td>\n",
       "      <td>405</td>\n",
       "    </tr>\n",
       "    <tr>\n",
       "      <td>Venusaur</td>\n",
       "      <td>Grass</td>\n",
       "      <td>Poison</td>\n",
       "      <td>80</td>\n",
       "      <td>82</td>\n",
       "      <td>83</td>\n",
       "      <td>100</td>\n",
       "      <td>100</td>\n",
       "      <td>80</td>\n",
       "      <td>1</td>\n",
       "      <td>False</td>\n",
       "      <td>525</td>\n",
       "    </tr>\n",
       "    <tr>\n",
       "      <td>Mega Venusaur</td>\n",
       "      <td>Grass</td>\n",
       "      <td>Poison</td>\n",
       "      <td>80</td>\n",
       "      <td>100</td>\n",
       "      <td>123</td>\n",
       "      <td>122</td>\n",
       "      <td>120</td>\n",
       "      <td>80</td>\n",
       "      <td>1</td>\n",
       "      <td>False</td>\n",
       "      <td>625</td>\n",
       "    </tr>\n",
       "    <tr>\n",
       "      <td>Charmander</td>\n",
       "      <td>Fire</td>\n",
       "      <td>NaN</td>\n",
       "      <td>39</td>\n",
       "      <td>52</td>\n",
       "      <td>43</td>\n",
       "      <td>60</td>\n",
       "      <td>50</td>\n",
       "      <td>65</td>\n",
       "      <td>1</td>\n",
       "      <td>False</td>\n",
       "      <td>309</td>\n",
       "    </tr>\n",
       "    <tr>\n",
       "      <td>...</td>\n",
       "      <td>...</td>\n",
       "      <td>...</td>\n",
       "      <td>...</td>\n",
       "      <td>...</td>\n",
       "      <td>...</td>\n",
       "      <td>...</td>\n",
       "      <td>...</td>\n",
       "      <td>...</td>\n",
       "      <td>...</td>\n",
       "      <td>...</td>\n",
       "      <td>...</td>\n",
       "    </tr>\n",
       "    <tr>\n",
       "      <td>Diancie</td>\n",
       "      <td>Rock</td>\n",
       "      <td>Fairy</td>\n",
       "      <td>50</td>\n",
       "      <td>100</td>\n",
       "      <td>150</td>\n",
       "      <td>100</td>\n",
       "      <td>150</td>\n",
       "      <td>50</td>\n",
       "      <td>6</td>\n",
       "      <td>True</td>\n",
       "      <td>600</td>\n",
       "    </tr>\n",
       "    <tr>\n",
       "      <td>Mega Diancie</td>\n",
       "      <td>Rock</td>\n",
       "      <td>Fairy</td>\n",
       "      <td>50</td>\n",
       "      <td>160</td>\n",
       "      <td>110</td>\n",
       "      <td>160</td>\n",
       "      <td>110</td>\n",
       "      <td>110</td>\n",
       "      <td>6</td>\n",
       "      <td>True</td>\n",
       "      <td>700</td>\n",
       "    </tr>\n",
       "    <tr>\n",
       "      <td>Hoopa Confined</td>\n",
       "      <td>Psychic</td>\n",
       "      <td>Ghost</td>\n",
       "      <td>80</td>\n",
       "      <td>110</td>\n",
       "      <td>60</td>\n",
       "      <td>150</td>\n",
       "      <td>130</td>\n",
       "      <td>70</td>\n",
       "      <td>6</td>\n",
       "      <td>True</td>\n",
       "      <td>600</td>\n",
       "    </tr>\n",
       "    <tr>\n",
       "      <td>Hoopa Unbound</td>\n",
       "      <td>Psychic</td>\n",
       "      <td>Dark</td>\n",
       "      <td>80</td>\n",
       "      <td>160</td>\n",
       "      <td>60</td>\n",
       "      <td>170</td>\n",
       "      <td>130</td>\n",
       "      <td>80</td>\n",
       "      <td>6</td>\n",
       "      <td>True</td>\n",
       "      <td>680</td>\n",
       "    </tr>\n",
       "    <tr>\n",
       "      <td>Volcanion</td>\n",
       "      <td>Fire</td>\n",
       "      <td>Water</td>\n",
       "      <td>80</td>\n",
       "      <td>110</td>\n",
       "      <td>120</td>\n",
       "      <td>130</td>\n",
       "      <td>90</td>\n",
       "      <td>70</td>\n",
       "      <td>6</td>\n",
       "      <td>True</td>\n",
       "      <td>600</td>\n",
       "    </tr>\n",
       "  </tbody>\n",
       "</table>\n",
       "<p>799 rows × 11 columns</p>\n",
       "</div>"
      ],
      "text/plain": [
       "                 Type 1  Type 2  Health Points  Attack  Defense  \\\n",
       "Name                                                              \n",
       "Bulbasaur         Grass  Poison             45      49       49   \n",
       "Ivysaur           Grass  Poison             60      62       63   \n",
       "Venusaur          Grass  Poison             80      82       83   \n",
       "Mega Venusaur     Grass  Poison             80     100      123   \n",
       "Charmander         Fire     NaN             39      52       43   \n",
       "...                 ...     ...            ...     ...      ...   \n",
       "Diancie            Rock   Fairy             50     100      150   \n",
       "Mega Diancie       Rock   Fairy             50     160      110   \n",
       "Hoopa Confined  Psychic   Ghost             80     110       60   \n",
       "Hoopa Unbound   Psychic    Dark             80     160       60   \n",
       "Volcanion          Fire   Water             80     110      120   \n",
       "\n",
       "                Attack speed points  Defense speed points  Speed  Generation  \\\n",
       "Name                                                                           \n",
       "Bulbasaur                        65                    65     45           1   \n",
       "Ivysaur                          80                    80     60           1   \n",
       "Venusaur                        100                   100     80           1   \n",
       "Mega Venusaur                   122                   120     80           1   \n",
       "Charmander                       60                    50     65           1   \n",
       "...                             ...                   ...    ...         ...   \n",
       "Diancie                         100                   150     50           6   \n",
       "Mega Diancie                    160                   110    110           6   \n",
       "Hoopa Confined                  150                   130     70           6   \n",
       "Hoopa Unbound                   170                   130     80           6   \n",
       "Volcanion                       130                    90     70           6   \n",
       "\n",
       "                Legendary  Total  \n",
       "Name                              \n",
       "Bulbasaur           False    318  \n",
       "Ivysaur             False    405  \n",
       "Venusaur            False    525  \n",
       "Mega Venusaur       False    625  \n",
       "Charmander          False    309  \n",
       "...                   ...    ...  \n",
       "Diancie              True    600  \n",
       "Mega Diancie         True    700  \n",
       "Hoopa Confined       True    600  \n",
       "Hoopa Unbound        True    680  \n",
       "Volcanion            True    600  \n",
       "\n",
       "[799 rows x 11 columns]"
      ]
     },
     "execution_count": 44,
     "metadata": {},
     "output_type": "execute_result"
    }
   ],
   "source": [
    "df"
   ]
  },
  {
   "cell_type": "code",
   "execution_count": 45,
   "metadata": {},
   "outputs": [],
   "source": [
    "highest_legendary = df[df['Legendary']==True]['Type 1'].value_counts().idxmax()"
   ]
  },
  {
   "cell_type": "code",
   "execution_count": 46,
   "metadata": {},
   "outputs": [
    {
     "name": "stdout",
     "output_type": "stream",
     "text": [
      "Psychic\n"
     ]
    }
   ],
   "source": [
    "print(highest_legendary)"
   ]
  },
  {
   "cell_type": "code",
   "execution_count": 48,
   "metadata": {},
   "outputs": [],
   "source": [
    "single_type_legendary = df[df['Type 2'].isnull() & df['Legendary']==True]"
   ]
  },
  {
   "cell_type": "code",
   "execution_count": 49,
   "metadata": {},
   "outputs": [
    {
     "name": "stdout",
     "output_type": "stream",
     "text": [
      "                            Type 1 Type 2  Health Points  Attack  Defense  \\\n",
      "Name                                                                        \n",
      "Mewtwo                     Psychic    NaN            106     110       90   \n",
      "Mega Mewtwo Y              Psychic    NaN            106     150       70   \n",
      "Raikou                    Electric    NaN             90      85       75   \n",
      "Entei                         Fire    NaN            115     115       85   \n",
      "Suicune                      Water    NaN            100      75      115   \n",
      "Regirock                      Rock    NaN             80     100      200   \n",
      "Regice                         Ice    NaN             80      50      100   \n",
      "Registeel                    Steel    NaN             80      75      150   \n",
      "Kyogre                       Water    NaN            100     100       90   \n",
      "Primal Kyogre                Water    NaN            100     150       90   \n",
      "Groudon                     Ground    NaN            100     150      140   \n",
      "Deoxys Normal Forme        Psychic    NaN             50     150       50   \n",
      "DeoxysAttack Forme         Psychic    NaN             50     180       20   \n",
      "Deoxys Defense Forme       Psychic    NaN             50      70      160   \n",
      "Deoxys Speed Forme         Psychic    NaN             50      95       90   \n",
      "Uxie                       Psychic    NaN             75      75      130   \n",
      "Mesprit                    Psychic    NaN             80     105      105   \n",
      "Azelf                      Psychic    NaN             75     125       70   \n",
      "Regigigas                   Normal    NaN            110     160      110   \n",
      "Darkrai                       Dark    NaN             70      90       90   \n",
      "Shaymin Land Forme           Grass    NaN            100     100      100   \n",
      "Arceus                      Normal    NaN            120     120      120   \n",
      "Tornadus Incarnate Forme    Flying    NaN             79     115       70   \n",
      "Tornadus Therian Forme      Flying    NaN             79     100       80   \n",
      "Xerneas                      Fairy    NaN            126     131       95   \n",
      "\n",
      "                          Attack speed points  Defense speed points  Speed  \\\n",
      "Name                                                                         \n",
      "Mewtwo                                    154                    90    130   \n",
      "Mega Mewtwo Y                             194                   120    140   \n",
      "Raikou                                    115                   100    115   \n",
      "Entei                                      90                    75    100   \n",
      "Suicune                                    90                   115     85   \n",
      "Regirock                                   50                   100     50   \n",
      "Regice                                    100                   200     50   \n",
      "Registeel                                  75                   150     50   \n",
      "Kyogre                                    150                   140     90   \n",
      "Primal Kyogre                             180                   160     90   \n",
      "Groudon                                   100                    90     90   \n",
      "Deoxys Normal Forme                       150                    50    150   \n",
      "DeoxysAttack Forme                        180                    20    150   \n",
      "Deoxys Defense Forme                       70                   160     90   \n",
      "Deoxys Speed Forme                         95                    90    180   \n",
      "Uxie                                       75                   130     95   \n",
      "Mesprit                                   105                   105     80   \n",
      "Azelf                                     125                    70    115   \n",
      "Regigigas                                  80                   110    100   \n",
      "Darkrai                                   135                    90    125   \n",
      "Shaymin Land Forme                        100                   100    100   \n",
      "Arceus                                    120                   120    120   \n",
      "Tornadus Incarnate Forme                  125                    80    111   \n",
      "Tornadus Therian Forme                    110                    90    121   \n",
      "Xerneas                                   131                    98     99   \n",
      "\n",
      "                          Generation  Legendary  Total  \n",
      "Name                                                    \n",
      "Mewtwo                             1       True    680  \n",
      "Mega Mewtwo Y                      1       True    780  \n",
      "Raikou                             2       True    580  \n",
      "Entei                              2       True    580  \n",
      "Suicune                            2       True    580  \n",
      "Regirock                           3       True    580  \n",
      "Regice                             3       True    580  \n",
      "Registeel                          3       True    580  \n",
      "Kyogre                             3       True    670  \n",
      "Primal Kyogre                      3       True    770  \n",
      "Groudon                            3       True    670  \n",
      "Deoxys Normal Forme                3       True    600  \n",
      "DeoxysAttack Forme                 3       True    600  \n",
      "Deoxys Defense Forme               3       True    600  \n",
      "Deoxys Speed Forme                 3       True    600  \n",
      "Uxie                               4       True    580  \n",
      "Mesprit                            4       True    580  \n",
      "Azelf                              4       True    580  \n",
      "Regigigas                          4       True    670  \n",
      "Darkrai                            4       True    600  \n",
      "Shaymin Land Forme                 4       True    600  \n",
      "Arceus                             4       True    720  \n",
      "Tornadus Incarnate Forme           5       True    580  \n",
      "Tornadus Therian Forme             5       True    580  \n",
      "Xerneas                            6       True    680  \n"
     ]
    }
   ],
   "source": [
    "print(single_type_legendary)"
   ]
  },
  {
   "cell_type": "code",
   "execution_count": 50,
   "metadata": {},
   "outputs": [
    {
     "name": "stdout",
     "output_type": "stream",
     "text": [
      "25\n"
     ]
    }
   ],
   "source": [
    "print(len(single_type_legendary))"
   ]
  },
  {
   "cell_type": "code",
   "execution_count": 51,
   "metadata": {},
   "outputs": [],
   "source": [
    "df.index = df.index.str.upper()"
   ]
  },
  {
   "cell_type": "code",
   "execution_count": 52,
   "metadata": {},
   "outputs": [],
   "source": [
    "df['Type 1'] = df['Type 1'].apply(lambda x: x.lower())"
   ]
  },
  {
   "cell_type": "code",
   "execution_count": 53,
   "metadata": {},
   "outputs": [],
   "source": [
    "df['Type 2'] = df['Type 2'].apply(lambda x: x.lower() if isinstance(x,str) else None)"
   ]
  },
  {
   "cell_type": "code",
   "execution_count": 54,
   "metadata": {},
   "outputs": [
    {
     "data": {
      "text/html": [
       "<div>\n",
       "<style scoped>\n",
       "    .dataframe tbody tr th:only-of-type {\n",
       "        vertical-align: middle;\n",
       "    }\n",
       "\n",
       "    .dataframe tbody tr th {\n",
       "        vertical-align: top;\n",
       "    }\n",
       "\n",
       "    .dataframe thead th {\n",
       "        text-align: right;\n",
       "    }\n",
       "</style>\n",
       "<table border=\"1\" class=\"dataframe\">\n",
       "  <thead>\n",
       "    <tr style=\"text-align: right;\">\n",
       "      <th></th>\n",
       "      <th>Type 1</th>\n",
       "      <th>Type 2</th>\n",
       "      <th>Health Points</th>\n",
       "      <th>Attack</th>\n",
       "      <th>Defense</th>\n",
       "      <th>Attack speed points</th>\n",
       "      <th>Defense speed points</th>\n",
       "      <th>Speed</th>\n",
       "      <th>Generation</th>\n",
       "      <th>Legendary</th>\n",
       "      <th>Total</th>\n",
       "    </tr>\n",
       "    <tr>\n",
       "      <th>Name</th>\n",
       "      <th></th>\n",
       "      <th></th>\n",
       "      <th></th>\n",
       "      <th></th>\n",
       "      <th></th>\n",
       "      <th></th>\n",
       "      <th></th>\n",
       "      <th></th>\n",
       "      <th></th>\n",
       "      <th></th>\n",
       "      <th></th>\n",
       "    </tr>\n",
       "  </thead>\n",
       "  <tbody>\n",
       "    <tr>\n",
       "      <td>BULBASAUR</td>\n",
       "      <td>grass</td>\n",
       "      <td>poison</td>\n",
       "      <td>45</td>\n",
       "      <td>49</td>\n",
       "      <td>49</td>\n",
       "      <td>65</td>\n",
       "      <td>65</td>\n",
       "      <td>45</td>\n",
       "      <td>1</td>\n",
       "      <td>False</td>\n",
       "      <td>318</td>\n",
       "    </tr>\n",
       "    <tr>\n",
       "      <td>IVYSAUR</td>\n",
       "      <td>grass</td>\n",
       "      <td>poison</td>\n",
       "      <td>60</td>\n",
       "      <td>62</td>\n",
       "      <td>63</td>\n",
       "      <td>80</td>\n",
       "      <td>80</td>\n",
       "      <td>60</td>\n",
       "      <td>1</td>\n",
       "      <td>False</td>\n",
       "      <td>405</td>\n",
       "    </tr>\n",
       "    <tr>\n",
       "      <td>VENUSAUR</td>\n",
       "      <td>grass</td>\n",
       "      <td>poison</td>\n",
       "      <td>80</td>\n",
       "      <td>82</td>\n",
       "      <td>83</td>\n",
       "      <td>100</td>\n",
       "      <td>100</td>\n",
       "      <td>80</td>\n",
       "      <td>1</td>\n",
       "      <td>False</td>\n",
       "      <td>525</td>\n",
       "    </tr>\n",
       "    <tr>\n",
       "      <td>MEGA VENUSAUR</td>\n",
       "      <td>grass</td>\n",
       "      <td>poison</td>\n",
       "      <td>80</td>\n",
       "      <td>100</td>\n",
       "      <td>123</td>\n",
       "      <td>122</td>\n",
       "      <td>120</td>\n",
       "      <td>80</td>\n",
       "      <td>1</td>\n",
       "      <td>False</td>\n",
       "      <td>625</td>\n",
       "    </tr>\n",
       "    <tr>\n",
       "      <td>CHARMANDER</td>\n",
       "      <td>fire</td>\n",
       "      <td>None</td>\n",
       "      <td>39</td>\n",
       "      <td>52</td>\n",
       "      <td>43</td>\n",
       "      <td>60</td>\n",
       "      <td>50</td>\n",
       "      <td>65</td>\n",
       "      <td>1</td>\n",
       "      <td>False</td>\n",
       "      <td>309</td>\n",
       "    </tr>\n",
       "  </tbody>\n",
       "</table>\n",
       "</div>"
      ],
      "text/plain": [
       "              Type 1  Type 2  Health Points  Attack  Defense  \\\n",
       "Name                                                           \n",
       "BULBASAUR      grass  poison             45      49       49   \n",
       "IVYSAUR        grass  poison             60      62       63   \n",
       "VENUSAUR       grass  poison             80      82       83   \n",
       "MEGA VENUSAUR  grass  poison             80     100      123   \n",
       "CHARMANDER      fire    None             39      52       43   \n",
       "\n",
       "               Attack speed points  Defense speed points  Speed  Generation  \\\n",
       "Name                                                                          \n",
       "BULBASAUR                       65                    65     45           1   \n",
       "IVYSAUR                         80                    80     60           1   \n",
       "VENUSAUR                       100                   100     80           1   \n",
       "MEGA VENUSAUR                  122                   120     80           1   \n",
       "CHARMANDER                      60                    50     65           1   \n",
       "\n",
       "               Legendary  Total  \n",
       "Name                             \n",
       "BULBASAUR          False    318  \n",
       "IVYSAUR            False    405  \n",
       "VENUSAUR           False    525  \n",
       "MEGA VENUSAUR      False    625  \n",
       "CHARMANDER         False    309  "
      ]
     },
     "execution_count": 54,
     "metadata": {},
     "output_type": "execute_result"
    }
   ],
   "source": [
    "df.head(5)"
   ]
  },
  {
   "cell_type": "code",
   "execution_count": 56,
   "metadata": {},
   "outputs": [],
   "source": [
    "fast_type = df.groupby('Type 1')['Speed'].agg(np.median).sort_values(ascending=False).idxmax()"
   ]
  },
  {
   "cell_type": "code",
   "execution_count": 57,
   "metadata": {},
   "outputs": [
    {
     "data": {
      "text/plain": [
       "'flying'"
      ]
     },
     "execution_count": 57,
     "metadata": {},
     "output_type": "execute_result"
    }
   ],
   "source": [
    "fast_type"
   ]
  },
  {
   "cell_type": "code",
   "execution_count": 58,
   "metadata": {},
   "outputs": [],
   "source": [
    "pivot = pd.pivot_table(df,index='Type 1', values='Attack speed points', columns='Generation')"
   ]
  },
  {
   "cell_type": "code",
   "execution_count": 68,
   "metadata": {},
   "outputs": [
    {
     "name": "stdout",
     "output_type": "stream",
     "text": [
      "Generation           1          2           3           4           5  \\\n",
      "Type 1                                                                  \n",
      "bug          46.428571  47.916667   48.333333   63.600000   62.888889   \n",
      "dark               NaN  85.000000   71.666667   95.000000   65.615385   \n",
      "dragon       73.333333        NaN  115.000000   72.500000   97.777778   \n",
      "electric     91.111111  91.428571   93.000000   90.416667   87.500000   \n",
      "fairy        77.500000  53.000000         NaN  120.000000         NaN   \n",
      "fighting     42.500000  35.000000   48.000000   96.666667   47.142857   \n",
      "fire         93.142857  83.625000   99.375000   99.000000   72.888889   \n",
      "flying             NaN        NaN         NaN         NaN  117.500000   \n",
      "ghost       128.750000  85.000000   65.800000   90.285714   91.000000   \n",
      "grass        90.538462  61.666667   80.923077   84.333333   69.266667   \n",
      "ground       39.375000  45.000000   76.428571   51.500000   61.600000   \n",
      "ice         105.000000  60.000000   82.142857   93.333333   80.000000   \n",
      "normal       55.125000  58.466667   53.222222   60.555556   54.473684   \n",
      "poison       57.142857  70.000000   72.000000   58.166667   50.000000   \n",
      "psychic     123.000000  84.285714   97.750000   80.625000   92.785714   \n",
      "rock         61.500000  66.000000   62.125000   44.833333   65.500000   \n",
      "steel              NaN  50.000000   65.416667   84.333333   68.750000   \n",
      "water        69.354839  68.277778   78.481481   81.153846   77.777778   \n",
      "\n",
      "Generation           6  \n",
      "Type 1                  \n",
      "bug          48.000000  \n",
      "dark         78.666667  \n",
      "dragon       82.250000  \n",
      "electric     83.666667  \n",
      "fairy        88.333333  \n",
      "fighting     63.000000  \n",
      "fire         88.500000  \n",
      "flying       71.000000  \n",
      "ghost        52.300000  \n",
      "grass        67.400000  \n",
      "ground             NaN  \n",
      "ice          38.000000  \n",
      "normal       46.750000  \n",
      "poison       78.500000  \n",
      "psychic     109.800000  \n",
      "rock         75.888889  \n",
      "steel        72.000000  \n",
      "water        85.200000  \n"
     ]
    }
   ],
   "source": [
    "print(pivot)"
   ]
  },
  {
   "cell_type": "code",
   "execution_count": 69,
   "metadata": {},
   "outputs": [],
   "source": [
    "df1 = pd.DataFrame({'fruit': ['apple', 'banana', 'orange'] * 3,\n",
    "                    'weight': ['high', 'medium', 'low'] * 3,\n",
    "                    'price': np.random.randint(0, 15, 9)})\n",
    "\n",
    "df2 = pd.DataFrame({'product': ['apple', 'orange', 'pine'] * 2,\n",
    "                    'kilo': ['high', 'low'] * 3,\n",
    "                    'price': np.random.randint(0, 15, 6)})"
   ]
  },
  {
   "cell_type": "code",
   "execution_count": 71,
   "metadata": {},
   "outputs": [],
   "source": [
    "merged = pd.merge(df1,df2,how='inner',left_on=['fruit','weight'], right_on=['product', 'kilo'], suffixes=['_left', '_right'])"
   ]
  },
  {
   "cell_type": "code",
   "execution_count": 72,
   "metadata": {},
   "outputs": [
    {
     "name": "stdout",
     "output_type": "stream",
     "text": [
      "    fruit weight  price_left product  kilo  price_right\n",
      "0   apple   high           5   apple  high           11\n",
      "1   apple   high           5   apple  high           11\n",
      "2   apple   high           0   apple  high           11\n",
      "3  orange    low           3  orange   low            5\n",
      "4  orange    low          14  orange   low            5\n",
      "5  orange    low          14  orange   low            5\n"
     ]
    }
   ],
   "source": [
    "print(merged)"
   ]
  },
  {
   "cell_type": "code",
   "execution_count": 73,
   "metadata": {},
   "outputs": [
    {
     "data": {
      "text/html": [
       "<div>\n",
       "<style scoped>\n",
       "    .dataframe tbody tr th:only-of-type {\n",
       "        vertical-align: middle;\n",
       "    }\n",
       "\n",
       "    .dataframe tbody tr th {\n",
       "        vertical-align: top;\n",
       "    }\n",
       "\n",
       "    .dataframe thead th {\n",
       "        text-align: right;\n",
       "    }\n",
       "</style>\n",
       "<table border=\"1\" class=\"dataframe\">\n",
       "  <thead>\n",
       "    <tr style=\"text-align: right;\">\n",
       "      <th></th>\n",
       "      <th>Type 1</th>\n",
       "      <th>Type 2</th>\n",
       "      <th>Health Points</th>\n",
       "      <th>Attack</th>\n",
       "      <th>Defense</th>\n",
       "      <th>Attack speed points</th>\n",
       "      <th>Defense speed points</th>\n",
       "      <th>Speed</th>\n",
       "      <th>Generation</th>\n",
       "      <th>Legendary</th>\n",
       "      <th>Total</th>\n",
       "    </tr>\n",
       "    <tr>\n",
       "      <th>Name</th>\n",
       "      <th></th>\n",
       "      <th></th>\n",
       "      <th></th>\n",
       "      <th></th>\n",
       "      <th></th>\n",
       "      <th></th>\n",
       "      <th></th>\n",
       "      <th></th>\n",
       "      <th></th>\n",
       "      <th></th>\n",
       "      <th></th>\n",
       "    </tr>\n",
       "  </thead>\n",
       "  <tbody>\n",
       "    <tr>\n",
       "      <td>BULBASAUR</td>\n",
       "      <td>grass</td>\n",
       "      <td>poison</td>\n",
       "      <td>45</td>\n",
       "      <td>49</td>\n",
       "      <td>49</td>\n",
       "      <td>65</td>\n",
       "      <td>65</td>\n",
       "      <td>45</td>\n",
       "      <td>1</td>\n",
       "      <td>False</td>\n",
       "      <td>318</td>\n",
       "    </tr>\n",
       "    <tr>\n",
       "      <td>IVYSAUR</td>\n",
       "      <td>grass</td>\n",
       "      <td>poison</td>\n",
       "      <td>60</td>\n",
       "      <td>62</td>\n",
       "      <td>63</td>\n",
       "      <td>80</td>\n",
       "      <td>80</td>\n",
       "      <td>60</td>\n",
       "      <td>1</td>\n",
       "      <td>False</td>\n",
       "      <td>405</td>\n",
       "    </tr>\n",
       "    <tr>\n",
       "      <td>VENUSAUR</td>\n",
       "      <td>grass</td>\n",
       "      <td>poison</td>\n",
       "      <td>80</td>\n",
       "      <td>82</td>\n",
       "      <td>83</td>\n",
       "      <td>100</td>\n",
       "      <td>100</td>\n",
       "      <td>80</td>\n",
       "      <td>1</td>\n",
       "      <td>False</td>\n",
       "      <td>525</td>\n",
       "    </tr>\n",
       "    <tr>\n",
       "      <td>MEGA VENUSAUR</td>\n",
       "      <td>grass</td>\n",
       "      <td>poison</td>\n",
       "      <td>80</td>\n",
       "      <td>100</td>\n",
       "      <td>123</td>\n",
       "      <td>122</td>\n",
       "      <td>120</td>\n",
       "      <td>80</td>\n",
       "      <td>1</td>\n",
       "      <td>False</td>\n",
       "      <td>625</td>\n",
       "    </tr>\n",
       "    <tr>\n",
       "      <td>CHARMANDER</td>\n",
       "      <td>fire</td>\n",
       "      <td>None</td>\n",
       "      <td>39</td>\n",
       "      <td>52</td>\n",
       "      <td>43</td>\n",
       "      <td>60</td>\n",
       "      <td>50</td>\n",
       "      <td>65</td>\n",
       "      <td>1</td>\n",
       "      <td>False</td>\n",
       "      <td>309</td>\n",
       "    </tr>\n",
       "  </tbody>\n",
       "</table>\n",
       "</div>"
      ],
      "text/plain": [
       "              Type 1  Type 2  Health Points  Attack  Defense  \\\n",
       "Name                                                           \n",
       "BULBASAUR      grass  poison             45      49       49   \n",
       "IVYSAUR        grass  poison             60      62       63   \n",
       "VENUSAUR       grass  poison             80      82       83   \n",
       "MEGA VENUSAUR  grass  poison             80     100      123   \n",
       "CHARMANDER      fire    None             39      52       43   \n",
       "\n",
       "               Attack speed points  Defense speed points  Speed  Generation  \\\n",
       "Name                                                                          \n",
       "BULBASAUR                       65                    65     45           1   \n",
       "IVYSAUR                         80                    80     60           1   \n",
       "VENUSAUR                       100                   100     80           1   \n",
       "MEGA VENUSAUR                  122                   120     80           1   \n",
       "CHARMANDER                      60                    50     65           1   \n",
       "\n",
       "               Legendary  Total  \n",
       "Name                             \n",
       "BULBASAUR          False    318  \n",
       "IVYSAUR            False    405  \n",
       "VENUSAUR           False    525  \n",
       "MEGA VENUSAUR      False    625  \n",
       "CHARMANDER         False    309  "
      ]
     },
     "execution_count": 73,
     "metadata": {},
     "output_type": "execute_result"
    }
   ],
   "source": [
    "df.head()"
   ]
  },
  {
   "cell_type": "code",
   "execution_count": null,
   "metadata": {},
   "outputs": [],
   "source": []
  }
 ],
 "metadata": {
  "kernelspec": {
   "display_name": "Python 3",
   "language": "python",
   "name": "python3"
  },
  "language_info": {
   "codemirror_mode": {
    "name": "ipython",
    "version": 3
   },
   "file_extension": ".py",
   "mimetype": "text/x-python",
   "name": "python",
   "nbconvert_exporter": "python",
   "pygments_lexer": "ipython3",
   "version": "3.7.4"
  }
 },
 "nbformat": 4,
 "nbformat_minor": 2
}
